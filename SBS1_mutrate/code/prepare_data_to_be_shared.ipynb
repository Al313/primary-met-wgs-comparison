{
 "cells": [
  {
   "cell_type": "code",
   "execution_count": 2,
   "id": "f531fd7e",
   "metadata": {},
   "outputs": [],
   "source": [
    "import pandas as pd"
   ]
  },
  {
   "cell_type": "code",
   "execution_count": 4,
   "id": "a10ecebb",
   "metadata": {},
   "outputs": [],
   "source": [
    "df_meta = pd.read_csv(\"../../data/SuppTable1_sample_metadata - metadata.tsv\",sep=\"\\t\")"
   ]
  },
  {
   "cell_type": "code",
   "execution_count": 10,
   "id": "5b22834b",
   "metadata": {},
   "outputs": [],
   "source": [
    "!cp /home/fran/Documents/cuppen/HPC/tunnel/cuppen/projects/P0025_PCAWG_HMF/passengers/analysis/total_clonality/*.txt ../data/"
   ]
  },
  {
   "cell_type": "code",
   "execution_count": 11,
   "id": "6b554390",
   "metadata": {},
   "outputs": [],
   "source": [
    "total_early = pd.read_csv(\"../data/counts_clonal_early_hartwig.txt\",sep=\" \",names=[\"sample_id\",\"clonal_early_minor_total\"])\n",
    "total_early_pcawg = pd.read_csv(\"../data/counts_clonal_early_pcawg.txt\",sep=\" \",names=[\"sample_id\",\"clonal_early_minor_total\"])\n",
    "total_early=pd.concat([total_early,total_early_pcawg])\n",
    "total_late = pd.read_csv(\"../data/counts_clonal_late_hartwig.txt\",sep=\" \",names=[\"sample_id\",\"clonal_late_minor_total\"])\n",
    "total_late_pcawg = pd.read_csv(\"../data/counts_clonal_late_pcawg.txt\",sep=\" \",names=[\"sample_id\",\"clonal_late_minor_total\"])\n",
    "total_late=pd.concat([total_late,total_late_pcawg])\n",
    "\n",
    "total_minor_cn = total_early.merge(total_late)\n",
    "total_minor_cn[\"prop_clonal_late_amp\"] = total_minor_cn[\"clonal_late_minor_total\"] / (total_minor_cn[\"clonal_late_minor_total\"]+total_minor_cn[\"clonal_early_minor_total\"])"
   ]
  },
  {
   "cell_type": "code",
   "execution_count": 12,
   "id": "e37bcf7a",
   "metadata": {},
   "outputs": [],
   "source": [
    "total_minor_cn.to_csv(\"../data/counts_total_minor_major_cn.txt\",sep=\"\\t\",index=False)"
   ]
  },
  {
   "cell_type": "code",
   "execution_count": null,
   "id": "4fc85322",
   "metadata": {},
   "outputs": [],
   "source": [
    "!cp /home/fran/Documents/cuppen/HPC/tunnel/cuppen/projects/P0025_PCAWG_HMF/drivers/analysis/dna-rep-ann/final-update/r-objects/rebuttal/complete1-5-40.tsv ../data/sbs1_counts_per_sample.tsv\n",
    "!cp /home/fran/Documents/cuppen/HPC/tunnel/cuppen/projects/P0025_PCAWG_HMF/passengers/analysis/SBS1_clonality/overview_SBS1_timing.txt ../data/timing_amplification.tsv"
   ]
  },
  {
   "cell_type": "markdown",
   "id": "4d16becf",
   "metadata": {},
   "source": [
    "### Fetch internal files and prepare a file to be shared..."
   ]
  },
  {
   "cell_type": "code",
   "execution_count": 5,
   "id": "c4785864",
   "metadata": {},
   "outputs": [],
   "source": [
    "df_test=pd.read_csv(\"../data/sbs1_counts_per_sample.tsv\",sep=\"\\t\")\n",
    "df_test=df_test[[\"sample_id\",\"age\",\"tmb_total\",\"tmb_purple_subclonal\",\"total_clonality_ratio\",\"tmb_clonal_late\",\"tmb_clonal_early\",\"tmb_clonal_na\",\"sbs1_count\",\"sbs1_purple_subclonal\",\"sbs1_clonality_ratio\",\"sbs1_normalized_clonality\",\"sbs1_clonal_late\",\"sbs1_clonal_early\",\"sbs1_clonal_na\",\"sbs1_timing_normalized2\",\"sbs5/40_count\",\"sbs5/40_purple_subclonal\",\"sbs5/40_clonality_ratio\",\"sbs5/40_clonal_late\",\"sbs5/40_clonal_early\",\"sbs5/40_clonal_na\",\"sbs5/40_timing_normalized2\",\"sbs5/40_normalized_clonality\"]].rename(columns={\"sbs1_clonality_ratio\":\"prop_sbs1_clonal\",\"sbs1_normalized_clonality\":\"sbs1_clonality_ratio\",\"sbs1_timing_normalized2\":\"sbs1_clonal_late_ratio\",\"sbs5/40_clonality_ratio\":\"prop_sbs5/40_clonal\",\"sbs5/40_normalized_clonality\":\"sbs5/40_clonality_ratio\",\"sbs5/40_timing_normalized2\":\"sbs5/40_clonal_late_ratio\"})\n",
    "df_test[\"prop_sbs1_clonal_late\"] = df_test[\"sbs1_clonal_late\"] / (df_test[\"sbs1_clonal_late\"]+df_test[\"sbs1_clonal_early\"]+df_test[\"sbs1_clonal_na\"])\n",
    "df_test[\"prop_sbs5/40_clonal_late\"] = df_test[\"sbs5/40_clonal_late\"] / (df_test[\"sbs5/40_clonal_late\"]+df_test[\"sbs5/40_clonal_early\"]+df_test[\"sbs5/40_clonal_na\"])\n",
    "df_test[\"prop_clonal_late\"] = df_test[\"tmb_clonal_late\"] / (df_test[\"tmb_clonal_late\"]+df_test[\"tmb_clonal_early\"]+df_test[\"tmb_clonal_na\"])\n",
    "# annotate clonal late ratio based on amplified regions\n",
    "# sbs1\n",
    "sbs1_clonality_2 = pd.read_csv(\"../data/timing_amplification.tsv\",sep=\"\\t\").rename(columns={\"SampleID\":\"sample_id\"})\n",
    "sbs1_clonality_2[\"sbs1_prop_clonal_late_ratio_amp\"] = sbs1_clonality_2[\"clonal_late_minor_major\"] / (sbs1_clonality_2[\"clonal_early_minor_major\"] +sbs1_clonality_2[\"clonal_late_minor_major\"])\n",
    "df_test=df_test.merge(sbs1_clonality_2[[\"sample_id\",\"sbs1_prop_clonal_late_ratio_amp\",\"clonal_late_minor_major\",\"clonal_early_minor_major\"]],how=\"left\")\n",
    "# total\n",
    "total_minor_cn = pd.read_csv(\"../data/counts_total_minor_major_cn.txt\",sep=\"\\t\")\n",
    "df_test=df_test.merge(total_minor_cn[[\"sample_id\",\"clonal_early_minor_total\",\"clonal_late_minor_total\",\"prop_clonal_late_amp\"]],how=\"left\")\n",
    "\n",
    "df_test[\"sbs1_clonal_late_ratio_amp\"] = df_test[\"sbs1_prop_clonal_late_ratio_amp\"] / df_test[\"prop_clonal_late_amp\"] \n",
    "\n"
   ]
  },
  {
   "cell_type": "code",
   "execution_count": 9,
   "id": "1c4c92bc",
   "metadata": {},
   "outputs": [],
   "source": [
    "!libreoffice ../data/sbs1_sbs5_counts.tsv"
   ]
  },
  {
   "cell_type": "code",
   "execution_count": 6,
   "id": "433aca54",
   "metadata": {},
   "outputs": [
    {
     "data": {
      "text/plain": [
       "array(['sample_id', 'age', 'tmb_total', 'tmb_purple_subclonal',\n",
       "       'total_clonality_ratio', 'tmb_clonal_late', 'tmb_clonal_early',\n",
       "       'tmb_clonal_na', 'sbs1_count', 'sbs1_purple_subclonal',\n",
       "       'prop_sbs1_clonal', 'sbs1_clonality_ratio', 'sbs1_clonal_late',\n",
       "       'sbs1_clonal_early', 'sbs1_clonal_na', 'sbs1_clonal_late_ratio',\n",
       "       'sbs5/40_count', 'sbs5/40_purple_subclonal', 'prop_sbs5/40_clonal',\n",
       "       'sbs5/40_clonal_late', 'sbs5/40_clonal_early', 'sbs5/40_clonal_na',\n",
       "       'sbs5/40_clonal_late_ratio', 'sbs5/40_clonality_ratio',\n",
       "       'prop_sbs1_clonal_late', 'prop_sbs5/40_clonal_late',\n",
       "       'prop_clonal_late', 'sbs1_prop_clonal_late_ratio_amp',\n",
       "       'clonal_late_minor_major', 'clonal_early_minor_major',\n",
       "       'clonal_early_minor_total', 'clonal_late_minor_total',\n",
       "       'prop_clonal_late_amp', 'sbs1_clonal_late_ratio_amp'], dtype=object)"
      ]
     },
     "execution_count": 6,
     "metadata": {},
     "output_type": "execute_result"
    }
   ],
   "source": [
    "df_test.columns.values"
   ]
  },
  {
   "cell_type": "code",
   "execution_count": 11,
   "id": "b57ca3dc",
   "metadata": {},
   "outputs": [],
   "source": [
    "columns=[\"sample_id\",\"sample_id_2\",\"age\",\"tmb_total\",\"tmb_purple_subclonal\",\"total_clonality_ratio\",'tmb_clonal_late', 'tmb_clonal_early',\n",
    "       'tmb_clonal_na',\"prop_clonal_late\",\"clonal_early_minor_total\",\"clonal_late_minor_total\",\"prop_clonal_late_amp\",\"sbs1_count\",\n",
    "        'sbs1_purple_subclonal','prop_sbs1_clonal', 'sbs1_clonality_ratio', 'sbs1_clonal_late',\n",
    "       'sbs1_clonal_early', 'sbs1_clonal_na','prop_sbs1_clonal_late', 'sbs1_clonal_late_ratio', 'clonal_late_minor_major', 'clonal_early_minor_major',\"sbs1_prop_clonal_late_ratio_amp\",\n",
    "        \"sbs1_clonal_late_ratio_amp\",'sbs5/40_count', 'sbs5/40_purple_subclonal', 'prop_sbs5/40_clonal','sbs5/40_clonality_ratio',\n",
    "       'sbs5/40_clonal_late', 'sbs5/40_clonal_early', 'sbs5/40_clonal_na',\n",
    "       'sbs5/40_clonal_late_ratio']\n",
    "df_test.merge(df_meta[[\"sample_id\",\"sample_id_2\"]])[columns].rename(columns={\"prop_clonal_late\":\"prop_tmb_clonal_late\",\"clonal_early_minor_total\":\"clonal_early_minor_major_tmb\",\"clonal_late_minor_total\":\"clonal_late_minor_major_tmb\",\"prop_clonal_late_amp\":\"prop_clonal_late_tmb_amp\",\n",
    "                                                                    \"clonal_late_minor_major\":\"clonal_late_minor_major_sbs1\",\"clonal_early_minor_major\":\"clonal_early_minor_major_sbs1\"}).to_csv(\"../data/sbs1_sbs5_counts.tsv\",sep=\"\\t\",index=False)"
   ]
  },
  {
   "cell_type": "code",
   "execution_count": null,
   "id": "d46a6add",
   "metadata": {},
   "outputs": [],
   "source": []
  }
 ],
 "metadata": {
  "kernelspec": {
   "display_name": "Python 3",
   "language": "python",
   "name": "python3"
  },
  "language_info": {
   "codemirror_mode": {
    "name": "ipython",
    "version": 3
   },
   "file_extension": ".py",
   "mimetype": "text/x-python",
   "name": "python",
   "nbconvert_exporter": "python",
   "pygments_lexer": "ipython3",
   "version": "3.6.9"
  },
  "widgets": {
   "application/vnd.jupyter.widget-state+json": {
    "state": {},
    "version_major": 2,
    "version_minor": 0
   }
  }
 },
 "nbformat": 4,
 "nbformat_minor": 5
}
